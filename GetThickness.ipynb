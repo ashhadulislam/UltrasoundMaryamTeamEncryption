{
 "cells": [
  {
   "cell_type": "code",
   "execution_count": 175,
   "id": "86274e42",
   "metadata": {},
   "outputs": [],
   "source": [
    "import models\n",
    "from models.convert_pidinet import convert_pidinet\n",
    "from edge_dataloader import  BSDS_Loader\n",
    "from torch.utils.data import DataLoader\n",
    "import matplotlib.pyplot as plt\n",
    "import os\n",
    "import time\n",
    "import torch\n",
    "import torchvision\n",
    "import numpy as np\n",
    "import cv2\n",
    "from utils import *"
   ]
  },
  {
   "cell_type": "code",
   "execution_count": 176,
   "id": "02f11c54",
   "metadata": {},
   "outputs": [],
   "source": [
    "class Args:\n",
    "    def __init__(self):\n",
    "        self.ablation=False\n",
    "        self.savedir='./data/table5_our'\n",
    "        self.use_cuda=False\n",
    "        self.model='pidinet_converted', \n",
    "\n",
    "        self.config='carv4'\n",
    "        self.sa=True\n",
    "        self.dil=True  \n",
    "        self.evaluate_converted=True\n",
    "#         self.datadir='./data/BSDS500cubs'\n",
    "        self.datadir='./data/BSDS500Single'\n",
    "        self.eta=0.3\n",
    "        self.evaluate='./data/table5_our/save_models/checkpoint_007_.pth'\n",
    "args=Args()        "
   ]
  },
  {
   "cell_type": "markdown",
   "id": "c194f25c",
   "metadata": {},
   "source": [
    "### Extra functions"
   ]
  },
  {
   "cell_type": "code",
   "execution_count": 177,
   "id": "9d541e9d",
   "metadata": {},
   "outputs": [],
   "source": [
    "\n",
    "def create_mask(arr):\n",
    "    max_val=np.max(arr)\n",
    "    mask_threshold=int(0.975*max_val)\n",
    "    print(\"mask_threshold\",mask_threshold)\n",
    "#     mask_threshold=200\n",
    "    new_matrix=np.zeros(arr.shape)\n",
    "    new_matrix[arr>mask_threshold]=255\n",
    "    return new_matrix\n",
    "\n",
    "def find_polyline_y(mask_array):\n",
    "    up_points=[]\n",
    "    down_points=[]    \n",
    "    \n",
    "    for col_num in range(mask_array.shape[1]):\n",
    "        for row_num in range(mask_array.shape[0]):\n",
    "            if mask_array[row_num][col_num]==255:\n",
    "                break\n",
    "\n",
    "        up_point=(row_num,col_num)\n",
    "        for row_num in range(row_num+1,mask_array.shape[0]):\n",
    "            if mask_array[row_num][col_num]==0:\n",
    "                break\n",
    "        down_point=(row_num-1,col_num)\n",
    "\n",
    "        if down_point[0]>up_point[0]+1:\n",
    "            up_points.append(up_point)\n",
    "            down_points.append(down_point)\n",
    "\n",
    "\n",
    "    return up_points,down_points\n",
    "\n",
    "\n",
    "def find_best_polyline_y(up_points,down_points):\n",
    "    up_points=np.array(up_points)\n",
    "    down_points=np.array(down_points)\n",
    "\n",
    "    \n",
    "\n",
    "    mean_up_row_num=int(np.mean(up_points[:,0]))\n",
    "    mean_down_row_num=int(np.mean(down_points[:,0]))\n",
    "    to_remove=[]\n",
    "    for i in range(up_points.shape[0]):\n",
    "        if not(up_points[i][0]>mean_up_row_num-50 and up_points[i][0]<mean_up_row_num+50):\n",
    "            to_remove.append(i)\n",
    "\n",
    "    up_points=np.delete(up_points,to_remove,axis=0)\n",
    "    down_points=np.delete(down_points,to_remove,axis=0)\n",
    "\n",
    "    print(mean_up_row_num,mean_down_row_num)\n",
    "    return up_points,down_points\n"
   ]
  },
  {
   "cell_type": "code",
   "execution_count": 178,
   "id": "b5df2deb",
   "metadata": {},
   "outputs": [],
   "source": [
    "running_file = os.path.join(args.savedir, '%s_running-%s.txt' \\\n",
    "            % (args.model, time.strftime('%Y-%m-%d-%H-%M-%S')))\n"
   ]
  },
  {
   "cell_type": "markdown",
   "id": "4c26383e",
   "metadata": {},
   "source": [
    "### Create model"
   ]
  },
  {
   "cell_type": "code",
   "execution_count": null,
   "id": "1d50736c",
   "metadata": {},
   "outputs": [],
   "source": []
  },
  {
   "cell_type": "code",
   "execution_count": 179,
   "id": "695de10b",
   "metadata": {},
   "outputs": [
    {
     "name": "stdout",
     "output_type": "stream",
     "text": [
      "At my_pidinet_converted \n",
      "{'layer0': 'cd', 'layer1': 'ad', 'layer2': 'rd', 'layer3': 'cv', 'layer4': 'cd', 'layer5': 'ad', 'layer6': 'rd', 'layer7': 'cv', 'layer8': 'cd', 'layer9': 'ad', 'layer10': 'rd', 'layer11': 'cv', 'layer12': 'cd', 'layer13': 'ad', 'layer14': 'rd', 'layer15': 'cv'}\n",
      "initialization done\n"
     ]
    }
   ],
   "source": [
    "model=models.my_pidinet_converted(args.config,args.sa,args.dil)"
   ]
  },
  {
   "cell_type": "code",
   "execution_count": 180,
   "id": "a00d01db",
   "metadata": {},
   "outputs": [
    {
     "name": "stdout",
     "output_type": "stream",
     "text": [
      "=> loading checkpoint from './data/table5_our/save_models/checkpoint_007_.pth'\n",
      "model_filename ./data/table5_our/save_models/checkpoint_007_.pth\n",
      "=> loaded checkpoint './data/table5_our/save_models/checkpoint_007_.pth' successfully\n",
      "{'layer0': 'cd', 'layer1': 'ad', 'layer2': 'rd', 'layer3': 'cv', 'layer4': 'cd', 'layer5': 'ad', 'layer6': 'rd', 'layer7': 'cv', 'layer8': 'cd', 'layer9': 'ad', 'layer10': 'rd', 'layer11': 'cv', 'layer12': 'cd', 'layer13': 'ad', 'layer14': 'rd', 'layer15': 'cv'}\n"
     ]
    },
    {
     "data": {
      "text/plain": [
       "<All keys matched successfully>"
      ]
     },
     "execution_count": 180,
     "metadata": {},
     "output_type": "execute_result"
    }
   ],
   "source": [
    "with open(running_file, 'w+') as f:\n",
    "    checkpoint = load_checkpoint(args, f)\n",
    "\n",
    "\n",
    "model.load_state_dict(convert_pidinet(checkpoint['state_dict'], args.config))"
   ]
  },
  {
   "cell_type": "markdown",
   "id": "c0148867",
   "metadata": {},
   "source": [
    "### Get test dataset and dataloader"
   ]
  },
  {
   "cell_type": "code",
   "execution_count": 181,
   "id": "0c26df82",
   "metadata": {},
   "outputs": [
    {
     "name": "stdout",
     "output_type": "stream",
     "text": [
      "Threshold for ground truth: 76.800000 on BSDS\n"
     ]
    }
   ],
   "source": [
    "\n",
    "# test_dataset = BSDS_Loader(root=args.datadir, split=\"test\", threshold=args.eta)\n",
    "test_dataset = BSDS_Loader(root=args.datadir, split=\"test\", threshold=args.eta)"
   ]
  },
  {
   "cell_type": "code",
   "execution_count": 182,
   "id": "635b54ee",
   "metadata": {},
   "outputs": [],
   "source": [
    "test_loader = DataLoader(test_dataset, batch_size=12, num_workers=0, shuffle=False)"
   ]
  },
  {
   "cell_type": "code",
   "execution_count": 183,
   "id": "87c08596",
   "metadata": {},
   "outputs": [
    {
     "name": "stdout",
     "output_type": "stream",
     "text": [
      "('device_usg',)\n"
     ]
    }
   ],
   "source": [
    "for imgs,labels in test_loader:\n",
    "    print(labels)"
   ]
  },
  {
   "cell_type": "markdown",
   "id": "6c685791",
   "metadata": {},
   "source": [
    "### Create the running file"
   ]
  },
  {
   "cell_type": "code",
   "execution_count": null,
   "id": "4e5cb9c2",
   "metadata": {},
   "outputs": [],
   "source": []
  },
  {
   "cell_type": "code",
   "execution_count": null,
   "id": "6c6de6d5",
   "metadata": {},
   "outputs": [],
   "source": []
  },
  {
   "cell_type": "code",
   "execution_count": null,
   "id": "df69811e",
   "metadata": {},
   "outputs": [],
   "source": []
  },
  {
   "cell_type": "code",
   "execution_count": 184,
   "id": "fdfdeb5c",
   "metadata": {},
   "outputs": [],
   "source": [
    "# running_file"
   ]
  },
  {
   "cell_type": "code",
   "execution_count": 185,
   "id": "184c667d",
   "metadata": {},
   "outputs": [],
   "source": [
    "\n",
    "def test(test_loader, model, epoch, running_file,args):\n",
    "\n",
    "    print(\"Args are \",args)\n",
    "\n",
    "    from PIL import Image\n",
    "    import scipy.io as sio\n",
    "    model.eval()\n",
    "\n",
    "    if args.ablation:\n",
    "        img_dir = os.path.join(args.savedir, 'eval_results_val', 'imgs_epoch_%03d' % (epoch - 1))\n",
    "        mat_dir = os.path.join(args.savedir, 'eval_results_val', 'mats_epoch_%03d' % (epoch - 1))\n",
    "    else:\n",
    "        img_dir = os.path.join(args.savedir, 'eval_results', 'imgs_epoch_%03d' % (epoch - 1))\n",
    "        mat_dir = os.path.join(args.savedir, 'eval_results', 'mats_epoch_%03d' % (epoch - 1))\n",
    "    eval_info = '\\nBegin to eval...\\nImg generated in %s\\n' % img_dir\n",
    "    print(eval_info)\n",
    "    running_file.write('\\n%s\\n%s\\n' % (str(args), eval_info))\n",
    "    if not os.path.exists(img_dir):\n",
    "        os.makedirs(img_dir)\n",
    "    else:\n",
    "        print('%s already exits, yes' % img_dir)\n",
    "        #return\n",
    "    if not os.path.exists(mat_dir):\n",
    "        print(\"Creating folder\",mat_dir)\n",
    "        os.makedirs(mat_dir)\n",
    "\n",
    "    for idx, (image, img_name) in enumerate(test_loader):\n",
    "        print(\"Going for test loader batch\",idx)\n",
    "        img_name = img_name[0]\n",
    "        with torch.no_grad():\n",
    "            image = image.cuda() if args.use_cuda else image\n",
    "            _, _, H, W = image.shape\n",
    "            results = model(image)\n",
    "            result = torch.squeeze(results[-1]).cpu().numpy()\n",
    "\n",
    "        results_all = torch.zeros((len(results), 1, H, W))\n",
    "        for i in range(len(results)):\n",
    "          results_all[i, 0, :, :] = results[i]\n",
    "        print(\"Completed one batch\")\n",
    "        print(\"going to save the segmented image as \",img_name)\n",
    "        torchvision.utils.save_image(1-results_all, \n",
    "                os.path.join(img_dir, \"%s.jpg\" % img_name))\n",
    "        sio.savemat(os.path.join(mat_dir, '%s.mat' % img_name), {'img': result})\n",
    "        result = Image.fromarray((result * 255).astype(np.uint8))\n",
    "        print(np.asarray(result))\n",
    "        print(\"min, max\",np.min(np.asarray(result)),np.max(np.asarray(result)))\n",
    "        plt.hist(np.asarray(result))\n",
    "        plt.show()\n",
    "\n",
    "        # find the white line\n",
    "\n",
    "        mask_array=create_mask(np.asarray(result))\n",
    "        mask_image = Image.fromarray(mask_array.astype(np.uint8))\n",
    "        mask_image.save(os.path.join(img_dir, \"%s_mask.png\" % img_name))\n",
    "\n",
    "        up_points,down_points=find_polyline_y(mask_array)\n",
    "        up_points,down_points=find_best_polyline_y(up_points,down_points)\n",
    "\n",
    "\n",
    "\n",
    "\n",
    "        print(\"top left\",up_points[0])\n",
    "        print(\"bottom_right\",down_points[-1])\n",
    "\n",
    "\n",
    "        \n",
    "\n",
    "\n",
    "        result.save(os.path.join(img_dir, \"%s.png\" % img_name))\n",
    "        image = cv2.imread(os.path.join(img_dir, \"%s.png\" % img_name))\n",
    "        color = (0, 0, 255)\n",
    "        fcolor = (255, 0, 0)\n",
    "        font = cv2.FONT_HERSHEY_SIMPLEX\n",
    "        fontScale = 1\n",
    "\n",
    "\n",
    "        # Line thickness of 2 px\n",
    "        thickness = 3\n",
    "        calculated_thickness=[]\n",
    "        for i in range(up_points.shape[0]):\n",
    "            up_point=(up_points[i][1],up_points[i][0])\n",
    "            down_point=(down_points[i][1],down_points[i][0])\n",
    "            calculated_thickness.append(down_points[i][0]-up_points[i][0])\n",
    "            image=cv2.line(image, up_point, down_point, color, thickness) \n",
    "        average_thickness=round(np.mean(np.array(calculated_thickness)),2)\n",
    "        image = cv2.putText(image, \"th:\"+str(average_thickness), (up_points[0][1]-15,up_points[0][0]-15), font, \n",
    "                   fontScale, fcolor, thickness, cv2.LINE_AA)\n",
    "\n",
    "        \n",
    "        cv2.imwrite(os.path.join(img_dir, \"%s_box.png\" % img_name),image)\n",
    "\n",
    "        # result_array=np.asarray(image)\n",
    "        # print(\"result shsape is \",result_array.shape)\n",
    "\n",
    "\n",
    "        runinfo = \"Running test [%d/%d]\" % (idx + 1, len(test_loader))\n",
    "        print(runinfo)\n",
    "        running_file.write('%s\\n' % runinfo)\n",
    "    running_file.write('\\nDone\\n')"
   ]
  },
  {
   "cell_type": "code",
   "execution_count": null,
   "id": "f4b6ce4d",
   "metadata": {},
   "outputs": [],
   "source": [
    "        \n",
    "        \n",
    "\n"
   ]
  },
  {
   "cell_type": "code",
   "execution_count": 186,
   "id": "9801cd65",
   "metadata": {},
   "outputs": [
    {
     "data": {
      "text/plain": [
       "\"./data/table5_our/('pidinet_converted',)_running-2023-04-19-20-59-26.txt\""
      ]
     },
     "execution_count": 186,
     "metadata": {},
     "output_type": "execute_result"
    }
   ],
   "source": [
    "running_file"
   ]
  },
  {
   "cell_type": "code",
   "execution_count": 187,
   "id": "7740786c",
   "metadata": {},
   "outputs": [
    {
     "name": "stdout",
     "output_type": "stream",
     "text": [
      "Args are  <__main__.Args object at 0x7fc52b6a5250>\n",
      "\n",
      "Begin to eval...\n",
      "Img generated in ./data/table5_our/eval_results/imgs_epoch_007\n",
      "\n",
      "./data/table5_our/eval_results/imgs_epoch_007 already exits, yes\n",
      "Going for test loader batch 0\n",
      "Completed one batch\n",
      "going to save the segmented image as  device_usg\n",
      "[[85 85 85 ... 85 85 85]\n",
      " [85 53 17 ... 14 50 85]\n",
      " [85 17  0 ...  0 14 85]\n",
      " ...\n",
      " [85 15  0 ...  4 35 85]\n",
      " [85 51 15 ... 35 65 85]\n",
      " [85 85 85 ... 85 85 85]]\n",
      "min, max 0 95\n"
     ]
    },
    {
     "data": {
      "image/png": "[encoded data removed]",
      "text/plain": [
       "<Figure size 432x288 with 1 Axes>"
      ]
     },
     "metadata": {
      "needs_background": "light"
     },
     "output_type": "display_data"
    },
    {
     "name": "stdout",
     "output_type": "stream",
     "text": [
      "mask_threshold 92\n",
      "158 160\n",
      "top left [ 158 1079]\n",
      "bottom_right [ 160 1081]\n",
      "Running test [1/1]\n"
     ]
    }
   ],
   "source": [
    "epoch=8\n",
    "with open(running_file, 'w+') as f:\n",
    "    test(test_loader, model, epoch, f,args)\n"
   ]
  },
  {
   "cell_type": "code",
   "execution_count": 188,
   "id": "e2f4654f",
   "metadata": {},
   "outputs": [
    {
     "data": {
      "text/plain": [
       "['root',\n",
       " 'split',\n",
       " 'threshold',\n",
       " 'transform',\n",
       " 'filelist',\n",
       " '__module__',\n",
       " '__doc__',\n",
       " '__init__',\n",
       " '__len__',\n",
       " '__getitem__',\n",
       " '__parameters__',\n",
       " '__add__',\n",
       " '__orig_bases__',\n",
       " '__dict__',\n",
       " '__weakref__',\n",
       " '__slots__',\n",
       " '__new__',\n",
       " '__class_getitem__',\n",
       " '__init_subclass__',\n",
       " '__repr__',\n",
       " '__hash__',\n",
       " '__str__',\n",
       " '__getattribute__',\n",
       " '__setattr__',\n",
       " '__delattr__',\n",
       " '__lt__',\n",
       " '__le__',\n",
       " '__eq__',\n",
       " '__ne__',\n",
       " '__gt__',\n",
       " '__ge__',\n",
       " '__reduce_ex__',\n",
       " '__reduce__',\n",
       " '__subclasshook__',\n",
       " '__format__',\n",
       " '__sizeof__',\n",
       " '__dir__',\n",
       " '__class__']"
      ]
     },
     "execution_count": 188,
     "metadata": {},
     "output_type": "execute_result"
    }
   ],
   "source": [
    "test_dataset.__dir__()"
   ]
  },
  {
   "cell_type": "code",
   "execution_count": 189,
   "id": "5922ccea",
   "metadata": {},
   "outputs": [
    {
     "data": {
      "text/plain": [
       "['my_data/test_img/device_usg.jpeg']"
      ]
     },
     "execution_count": 189,
     "metadata": {},
     "output_type": "execute_result"
    }
   ],
   "source": [
    "test_dataset.filelist"
   ]
  },
  {
   "cell_type": "code",
   "execution_count": 190,
   "id": "c1d5c04c",
   "metadata": {},
   "outputs": [],
   "source": [
    "from PIL import Image"
   ]
  },
  {
   "cell_type": "code",
   "execution_count": 191,
   "id": "692f2217",
   "metadata": {},
   "outputs": [
    {
     "name": "stdout",
     "output_type": "stream",
     "text": [
      "7 255\n"
     ]
    }
   ],
   "source": [
    "im=Image.open(\"/Users/ashhadulislam/projects/hbku/misc/mpt/Maryam_Team/code_FlaskServer/data/table5_our/eval_results/imgs_epoch_007/im1.jpg\")\n",
    "np.asarray(im)\n",
    "\n",
    "print(np.min(np.asarray(im)),np.max(np.asarray(im)))"
   ]
  },
  {
   "cell_type": "code",
   "execution_count": 192,
   "id": "86408054",
   "metadata": {},
   "outputs": [
    {
     "name": "stdout",
     "output_type": "stream",
     "text": [
      "158 255\n"
     ]
    }
   ],
   "source": [
    "im=Image.open(\"/Users/ashhadulislam/projects/hbku/misc/mpt/Maryam_Team/code_FlaskServer/data/table5_our/eval_results/imgs_epoch_007/device_usg.jpg\")\n",
    "np.asarray(im)\n",
    "\n",
    "print(np.min(np.asarray(im)),np.max(np.asarray(im)))"
   ]
  },
  {
   "cell_type": "code",
   "execution_count": 193,
   "id": "2e79fdc4",
   "metadata": {},
   "outputs": [
    {
     "data": {
      "text/plain": [
       "0.975609756097561"
      ]
     },
     "execution_count": 193,
     "metadata": {},
     "output_type": "execute_result"
    }
   ],
   "source": [
    "240/246"
   ]
  },
  {
   "cell_type": "code",
   "execution_count": null,
   "id": "6d271f74",
   "metadata": {},
   "outputs": [],
   "source": []
  }
 ],
 "metadata": {
  "kernelspec": {
   "display_name": "yolo5py37_kern",
   "language": "python",
   "name": "yolo5py37_kern"
  },
  "language_info": {
   "codemirror_mode": {
    "name": "ipython",
    "version": 3
   },
   "file_extension": ".py",
   "mimetype": "text/x-python",
   "name": "python",
   "nbconvert_exporter": "python",
   "pygments_lexer": "ipython3",
   "version": "3.7.11"
  }
 },
 "nbformat": 4,
 "nbformat_minor": 5
}
